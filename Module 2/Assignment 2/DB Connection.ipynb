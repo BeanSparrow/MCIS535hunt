{
 "cells": [
  {
   "cell_type": "code",
   "execution_count": 5,
   "source": [
    "import getpass\r\n",
    "import mysql.connector as mysql\r\n",
    "\r\n",
    "class Database:\r\n",
    "    def __init__(self, name, user, passwd):\r\n",
    "        self.name = name\r\n",
    "        self.user = user\r\n",
    "        self.passwd = passwd\r\n",
    "        self.host = \"localhost\"\r\n",
    "        self.establish_connection(self.host, self.user, self.passwd)\r\n",
    "\r\n",
    "    def establish_connection(self, host_name, user_name, password_provided):\r\n",
    "        try:\r\n",
    "            with mysql.connect(\r\n",
    "                host = host_name,\r\n",
    "                user = user_name,\r\n",
    "                passwd = password_provided \r\n",
    "            ) as connection:\r\n",
    "                self.verify_db_exists(connection)\r\n",
    "        except mysql.Error as e:\r\n",
    "            print(e)\r\n",
    "        \r\n",
    "    # Function to Create a New DB\r\n",
    "    def create_db(self, connection):\r\n",
    "        db = connection\r\n",
    "\r\n",
    "        # creating an instance of 'cursor' class which is used to execute the 'SQL' statements in 'Python'\r\n",
    "        cursor = db.cursor()\r\n",
    "        cursor.execute(\"CREATE DATABASE \" + self.name)\r\n",
    "    \r\n",
    "    # Function to manipulate database string returned via SQL\r\n",
    "    def database_string_remove_characters(self, database):\r\n",
    "        return  str(database).replace('\\'','').replace('(','').replace(')','').replace(',','')\r\n",
    "\r\n",
    "    # Function to Verify a DB already Exists with a specified name\r\n",
    "    def verify_db_exists(self, connection):\r\n",
    "        # Identify All DB Names\r\n",
    "        cursor = connection.cursor()\r\n",
    "        cursor.execute(\"SHOW DATABASES\")\r\n",
    "        databases = cursor.fetchall()\r\n",
    "        counter = 0\r\n",
    "    \r\n",
    "        # Isolate DB Name and Check against passed value\r\n",
    "        for database in databases:\r\n",
    "            new_db_string = self.database_string_remove_characters(database)\r\n",
    "            if new_db_string == self.name:\r\n",
    "                counter = 1\r\n",
    "    \r\n",
    "        # Create DB if Does Not Exist\r\n",
    "        if counter != 1:\r\n",
    "            self.create_db(connection)\r\n",
    "    \r\n",
    "    # Function to connect to specified DB and Initialize it\r\n",
    "    def show_databases(self):\r\n",
    "        db = mysql.connect(\r\n",
    "            host = self.host,\r\n",
    "            user = self.user,\r\n",
    "            passwd = self.passwd,\r\n",
    "        )\r\n",
    "        \r\n",
    "        cursor = db.cursor()\r\n",
    "        cursor.execute(\"SHOW DATABASES\")\r\n",
    "        databases = cursor.fetchall()\r\n",
    "\r\n",
    "        for database in databases:\r\n",
    "            print(self.database_string_remove_characters(database))\r\n",
    "\r\n",
    "    # Function to connect to specified DB and Initialize it\r\n",
    "    def connect_to_db(self):\r\n",
    "        db = mysql.connect(\r\n",
    "            host = self.host,\r\n",
    "            user = self.user,\r\n",
    "            passwd = self.passwd,\r\n",
    "            database = self.name\r\n",
    "        )\r\n",
    "        return db"
   ],
   "outputs": [],
   "metadata": {}
  },
  {
   "cell_type": "code",
   "execution_count": 3,
   "source": [
    "class Table:\r\n",
    "    def __init__(self):\r\n",
    "        "
   ],
   "outputs": [
    {
     "output_type": "stream",
     "name": "stdout",
     "text": [
      "[]\n"
     ]
    }
   ],
   "metadata": {}
  },
  {
   "cell_type": "code",
   "execution_count": 6,
   "source": [
    "def main():\r\n",
    "\r\n",
    "    # Get User Input for Server Connection\r\n",
    "    user = input('Enter Username: ')\r\n",
    "    passwd = getpass.getpass('Enter Password: ')\r\n",
    "    \r\n",
    "    # Create Database Object\r\n",
    "    database = Database('education_census_data', user, passwd)\r\n",
    "    \r\n",
    "    '''database.show_databases()''' # Uncomment to return list of databases available in MySQL Server\r\n",
    "    \r\n",
    "    # Connect to DB\r\n",
    "    db = database.connect_to_db()\r\n",
    "    \r\n",
    "    # Create Cursor for SQL Query\r\n",
    "    cursor = db.cursor()\r\n",
    "    cursor.execute(\"Show Tables\")\r\n",
    "    table_list = cursor.fetchall()\r\n",
    "\r\n",
    "    print(table_list)\r\n",
    "\r\n",
    "if __name__ == '__main__':\r\n",
    "    main()"
   ],
   "outputs": [
    {
     "output_type": "stream",
     "name": "stdout",
     "text": [
      "education_census_data\n",
      "information_schema\n",
      "mysql\n",
      "performance_schema\n",
      "sakila\n",
      "sys\n",
      "world\n",
      "[]\n"
     ]
    }
   ],
   "metadata": {}
  },
  {
   "cell_type": "code",
   "execution_count": null,
   "source": [],
   "outputs": [],
   "metadata": {}
  }
 ],
 "metadata": {
  "kernelspec": {
   "display_name": "Python 3",
   "language": "python",
   "name": "python3"
  },
  "language_info": {
   "codemirror_mode": {
    "name": "ipython",
    "version": 3
   },
   "file_extension": ".py",
   "mimetype": "text/x-python",
   "name": "python",
   "nbconvert_exporter": "python",
   "pygments_lexer": "ipython3",
   "version": "3.8.8"
  }
 },
 "nbformat": 4,
 "nbformat_minor": 2
}