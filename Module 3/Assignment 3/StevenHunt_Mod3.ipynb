{
 "cells": [
  {
   "cell_type": "markdown",
   "source": [
    "# Assignment 3\n",
    "\n",
    "### Write a Python program to detect ALL the missing values. Explain those missing values and how you should handle them based on what you’ve learnt in this module."
   ],
   "metadata": {}
  },
  {
   "cell_type": "code",
   "execution_count": 14,
   "source": [
    "# Import Libraries\r\n",
    "import csv\r\n",
    "import pandas as pd\r\n",
    "import numpy as np"
   ],
   "outputs": [],
   "metadata": {}
  },
  {
   "cell_type": "markdown",
   "source": [
    "### The first function is for establishing the dataframe."
   ],
   "metadata": {}
  },
  {
   "cell_type": "code",
   "execution_count": 15,
   "source": [
    "# Function to Read in File and set data to Pandas DataFrame\r\n",
    "def file_to_df(filename):\r\n",
    "    df = pd.read_csv(filename)\r\n",
    "    print('Here is the original DataFrame Imported from the provided file:\\n')\r\n",
    "    print(df, end='\\n\\n')\r\n",
    "    return df"
   ],
   "outputs": [],
   "metadata": {}
  },
  {
   "cell_type": "markdown",
   "source": [
    "### This next function allows for the analysis of the null or NaN values in the dataframe"
   ],
   "metadata": {}
  },
  {
   "cell_type": "code",
   "execution_count": 16,
   "source": [
    "# Function to analzye DataFrame for Null or NaN values\r\n",
    "def analyze_nulls(df):\r\n",
    "    print('The is a boolean table showing \"TRUE\" where a Null/NaN exists in the Dataframe:\\n')\r\n",
    "    print(df.isna(), end='\\n\\n')\r\n",
    "    print('This shows the sum number of null/NaN values in each column:\\n')\r\n",
    "    print(df.isna().sum(), end='\\n\\n')"
   ],
   "outputs": [],
   "metadata": {}
  },
  {
   "cell_type": "markdown",
   "source": [
    "### After having identified the null/NaN values and visually identifying additional errors the necessary fixes for cleaning the data were identified and established within a single function.  Multiple dataframe cleaning methods were used for demonstration purposes. The values used are based on the following justifications:\r\n",
    "\r\n",
    "#### PID - The value missing is a Primary Identification value that is chronological to all other records in the table\r\n",
    "#### ST_NUM - Values should be three digit integers, chose replacement values arbitrarily\r\n",
    "#### OWN_OCCUPIED - Values should be \"Y\" or \"N\" chose replacement values arbitrarily\r\n",
    "#### NUM_BEDROOMS - Values should be single digit integers, chose replacement values arbitrarily\r\n",
    "#### NUM_BATHS - Values should be single digit integers or doubles ending in '.5', chose replacement values arbitrarily\r\n",
    "#### SQ_FT - Values should be integers representing square footage, chose replacement values arbitrarily\r\n"
   ],
   "metadata": {}
  },
  {
   "cell_type": "code",
   "execution_count": 17,
   "source": [
    "def cleaning_df(df):\r\n",
    "    # All NA values that can be replaced in mass per column can be cleaned using this method\r\n",
    "    values = {'PID': 100005000, 'OWN_OCCUPIED': 'Y', 'NUM_BATH': 1.5, 'SQ_FT': 675}\r\n",
    "    df.fillna(value=values, inplace=True)\r\n",
    "\r\n",
    "    # The replace() method can be used to replace values in a column by identifying the value to be replaced and the column name\r\n",
    "    df_clean= df.replace({'OWN_OCCUPIED':{'12':'N'}, 'NUM_BEDROOMS':{'na': 4}, 'NUM_BATH':{'HURLEY': 2}, 'SQ_FT':{'--': 950}})\r\n",
    "\r\n",
    "    # The loc method can be used to select individual values from a dataframe by identifying the index and column name\r\n",
    "    # it can then be replaced by setting the location equal to a new values\r\n",
    "    df_clean.loc[2, 'NUM_BEDROOMS'] = 2\r\n",
    "    df_clean.loc[5, 'NUM_BEDROOMS'] = 1\r\n",
    "    df_clean.loc[2, 'ST_NUM'] = 199\r\n",
    "    df_clean.loc[6, 'ST_NUM'] = 211\r\n",
    "\r\n",
    "\r\n",
    "    #Set Percision of values in the dataframe to 0 decimal places\r\n",
    "    pd.set_option('display.float_format', lambda x: '%.0f' % x)\r\n",
    "    #df_clean.round(decimals=0)\r\n",
    "\r\n",
    "    # Prints the New Clean DF\r\n",
    "    print('Here is the completed and clean dataframe:\\n')\r\n",
    "    print(df_clean)\r\n",
    "    return(df_clean)\r\n",
    "    "
   ],
   "outputs": [],
   "metadata": {}
  },
  {
   "cell_type": "code",
   "execution_count": 18,
   "source": [
    "def main():\r\n",
    "    # Establish File Path\r\n",
    "    filename = \"StevenHunt_Mod3_data\\mod_3_data.csv\"\r\n",
    "\r\n",
    "    # Generate DataFrame through function\r\n",
    "    df = file_to_df(filename)\r\n",
    "\r\n",
    "    # Analyze for Null/NaN values\r\n",
    "    analyze_nulls(df)\r\n",
    "\r\n",
    "    # Cleans the data and prints the new DF\r\n",
    "    df_clean = cleaning_df(df)\r\n",
    "\r\n",
    "\r\n",
    "main()\r\n"
   ],
   "outputs": [
    {
     "output_type": "stream",
     "name": "stdout",
     "text": [
      "Here is the original DataFrame Imported from the provided file:\n",
      "\n",
      "        PID  ST_NUM     ST_NAME OWN_OCCUPIED NUM_BEDROOMS NUM_BATH SQ_FT\n",
      "0 100001000     104      PUTNAM            Y            3        1  1000\n",
      "1 100002000     197   LEXINGTON            N            3      1.5    --\n",
      "2 100003000     NaN   LEXINGTON            N          NaN        1   850\n",
      "3 100004000     201    BERKELEY           12            1      NaN   700\n",
      "4       NaN     203    BERKELEY            Y            3        2  1600\n",
      "5 100006000     207    BERKELEY            Y          NaN        1   800\n",
      "6 100007000     NaN  WASHINGTON          NaN            2   HURLEY   950\n",
      "7 100008000     213     TREMONT            Y            1        1   NaN\n",
      "8 100009000     215     TREMONT            Y           na        2  1800\n",
      "\n",
      "The is a boolean table showing \"TRUE\" where a Null/NaN exists in the Dataframe:\n",
      "\n",
      "     PID  ST_NUM  ST_NAME  OWN_OCCUPIED  NUM_BEDROOMS  NUM_BATH  SQ_FT\n",
      "0  False   False    False         False         False     False  False\n",
      "1  False   False    False         False         False     False  False\n",
      "2  False    True    False         False          True     False  False\n",
      "3  False   False    False         False         False      True  False\n",
      "4   True   False    False         False         False     False  False\n",
      "5  False   False    False         False          True     False  False\n",
      "6  False    True    False          True         False     False  False\n",
      "7  False   False    False         False         False     False   True\n",
      "8  False   False    False         False         False     False  False\n",
      "\n",
      "This shows the sum number of null/NaN values in each column:\n",
      "\n",
      "PID             1\n",
      "ST_NUM          2\n",
      "ST_NAME         0\n",
      "OWN_OCCUPIED    1\n",
      "NUM_BEDROOMS    2\n",
      "NUM_BATH        1\n",
      "SQ_FT           1\n",
      "dtype: int64\n",
      "\n",
      "Here is the completed and clean dataframe:\n",
      "\n",
      "        PID  ST_NUM     ST_NAME OWN_OCCUPIED NUM_BEDROOMS NUM_BATH SQ_FT\n",
      "0 100001000     104      PUTNAM            Y            3        1  1000\n",
      "1 100002000     197   LEXINGTON            N            3      1.5   950\n",
      "2 100003000     199   LEXINGTON            N            2        1   850\n",
      "3 100004000     201    BERKELEY            N            1        2   700\n",
      "4 100005000     203    BERKELEY            Y            3        2  1600\n",
      "5 100006000     207    BERKELEY            Y            1        1   800\n",
      "6 100007000     211  WASHINGTON            Y            2        2   950\n",
      "7 100008000     213     TREMONT            Y            1        1   675\n",
      "8 100009000     215     TREMONT            Y            4        2  1800\n"
     ]
    }
   ],
   "metadata": {}
  },
  {
   "cell_type": "markdown",
   "source": [
    "## The final table is cleaner and does not contain values that would cause error in analysis."
   ],
   "metadata": {}
  },
  {
   "cell_type": "markdown",
   "source": [],
   "metadata": {}
  }
 ],
 "metadata": {
  "interpreter": {
   "hash": "b3ba2566441a7c06988d0923437866b63cedc61552a5af99d1f4fb67d367b25f"
  },
  "kernelspec": {
   "name": "python3",
   "display_name": "Python 3.8.8 64-bit ('base': conda)"
  },
  "language_info": {
   "codemirror_mode": {
    "name": "ipython",
    "version": 3
   },
   "file_extension": ".py",
   "mimetype": "text/x-python",
   "name": "python",
   "nbconvert_exporter": "python",
   "pygments_lexer": "ipython3",
   "version": "3.8.8"
  }
 },
 "nbformat": 4,
 "nbformat_minor": 2
}