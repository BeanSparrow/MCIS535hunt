{
 "metadata": {
  "language_info": {
   "codemirror_mode": {
    "name": "ipython",
    "version": 3
   },
   "file_extension": ".py",
   "mimetype": "text/x-python",
   "name": "python",
   "nbconvert_exporter": "python",
   "pygments_lexer": "ipython3",
   "version": "3.9.2"
  },
  "orig_nbformat": 4,
  "kernelspec": {
   "name": "python3",
   "display_name": "Python 3.9.2 64-bit"
  },
  "interpreter": {
   "hash": "16400ed3e32151f25ed54eb366b67a6c5a1368f1bd89b49057e9ee976a026bda"
  }
 },
 "nbformat": 4,
 "nbformat_minor": 2,
 "cells": [
  {
   "source": [
    "# Wrangling Data Chapter 3\n",
    "\n",
    "### Import CSV"
   ],
   "cell_type": "markdown",
   "metadata": {}
  },
  {
   "source": [
    "import csv\n",
    "\n",
    "def csv_reader():\n",
    "    csvfile = open('data/data-text.csv','r')\n",
    "    reader = csv.reader(csvfile)\n",
    "\n",
    "    count = 0 #Counter for Loop Break\n",
    "    for row in reader:\n",
    "        count += 1\n",
    "        print(row)\n",
    "        if count == 10: #Loop Breaker after 10 rows\n",
    "            break\n",
    "\n",
    "def main():\n",
    "    csv_reader()\n",
    "\n",
    "if __name__ == \"__main__\":\n",
    "    main()\n"
   ],
   "cell_type": "code",
   "metadata": {
    "tags": []
   },
   "execution_count": 12,
   "outputs": [
    {
     "output_type": "stream",
     "name": "stdout",
     "text": [
      "['Indicator', 'PUBLISH STATES', 'Year', 'WHO region', 'Country', 'Sex', 'Display Value', 'Numeric', 'Low', 'High', 'Comments']\n['Life expectancy at birth (years)', 'Published', '1920', 'Americas', 'Canada', 'Both sexes', '82.8', '82.80972', '', '', 'WHO life table method: Vital registration']\n['Life expectancy at birth (years)', 'Published', '2000', 'Eastern Mediterranean', 'Afghanistan', 'Male', '54.6', '54.57449', '', '', '']\n['Healthy life expectancy (HALE) at birth (years)', 'Published', '2000', 'Eastern Mediterranean', 'Afghanistan', 'Male', '46.9', '46.93113', '', '', '']\n['Life expectancy at age 60 (years)', 'Published', '2000', 'Eastern Mediterranean', 'Afghanistan', 'Male', '13.6', '13.63259', '', '', '']\n['Life expectancy at birth (years)', 'Published', '2010', 'Eastern Mediterranean', 'Afghanistan', 'Male', '59.6', '59.60036', '', '', '']\n['Healthy life expectancy (HALE) at birth (years)', 'Published', '2010', 'Eastern Mediterranean', 'Afghanistan', 'Male', '51.5', '51.50902', '', '', '']\n['Life expectancy at age 60 (years)', 'Published', '2010', 'Eastern Mediterranean', 'Afghanistan', 'Male', '15.1', '15.07067', '', '', '']\n['Life expectancy at birth (years)', 'Published', '2015', 'Eastern Mediterranean', 'Afghanistan', 'Male', '61.0', '61.03658', '', '', '']\n['Healthy life expectancy (HALE) at birth (years)', 'Published', '2015', 'Eastern Mediterranean', 'Afghanistan', 'Male', '52.8', '52.78430', '', '', '']\n"
     ]
    }
   ]
  },
  {
   "source": [
    "### Import CSV as a Dictionary"
   ],
   "cell_type": "markdown",
   "metadata": {}
  },
  {
   "cell_type": "code",
   "execution_count": 11,
   "metadata": {},
   "outputs": [
    {
     "output_type": "stream",
     "name": "stdout",
     "text": [
      "{'Indicator': 'Life expectancy at birth (years)', 'PUBLISH STATES': 'Published', 'Year': '1920', 'WHO region': 'Americas', 'Country': 'Canada', 'Sex': 'Both sexes', 'Display Value': '82.8', 'Numeric': '82.80972', 'Low': '', 'High': '', 'Comments': 'WHO life table method: Vital registration'}\n{'Indicator': 'Life expectancy at birth (years)', 'PUBLISH STATES': 'Published', 'Year': '2000', 'WHO region': 'Eastern Mediterranean', 'Country': 'Afghanistan', 'Sex': 'Male', 'Display Value': '54.6', 'Numeric': '54.57449', 'Low': '', 'High': '', 'Comments': ''}\n{'Indicator': 'Healthy life expectancy (HALE) at birth (years)', 'PUBLISH STATES': 'Published', 'Year': '2000', 'WHO region': 'Eastern Mediterranean', 'Country': 'Afghanistan', 'Sex': 'Male', 'Display Value': '46.9', 'Numeric': '46.93113', 'Low': '', 'High': '', 'Comments': ''}\n{'Indicator': 'Life expectancy at age 60 (years)', 'PUBLISH STATES': 'Published', 'Year': '2000', 'WHO region': 'Eastern Mediterranean', 'Country': 'Afghanistan', 'Sex': 'Male', 'Display Value': '13.6', 'Numeric': '13.63259', 'Low': '', 'High': '', 'Comments': ''}\n{'Indicator': 'Life expectancy at birth (years)', 'PUBLISH STATES': 'Published', 'Year': '2010', 'WHO region': 'Eastern Mediterranean', 'Country': 'Afghanistan', 'Sex': 'Male', 'Display Value': '59.6', 'Numeric': '59.60036', 'Low': '', 'High': '', 'Comments': ''}\n{'Indicator': 'Healthy life expectancy (HALE) at birth (years)', 'PUBLISH STATES': 'Published', 'Year': '2010', 'WHO region': 'Eastern Mediterranean', 'Country': 'Afghanistan', 'Sex': 'Male', 'Display Value': '51.5', 'Numeric': '51.50902', 'Low': '', 'High': '', 'Comments': ''}\n{'Indicator': 'Life expectancy at age 60 (years)', 'PUBLISH STATES': 'Published', 'Year': '2010', 'WHO region': 'Eastern Mediterranean', 'Country': 'Afghanistan', 'Sex': 'Male', 'Display Value': '15.1', 'Numeric': '15.07067', 'Low': '', 'High': '', 'Comments': ''}\n{'Indicator': 'Life expectancy at birth (years)', 'PUBLISH STATES': 'Published', 'Year': '2015', 'WHO region': 'Eastern Mediterranean', 'Country': 'Afghanistan', 'Sex': 'Male', 'Display Value': '61.0', 'Numeric': '61.03658', 'Low': '', 'High': '', 'Comments': ''}\n{'Indicator': 'Healthy life expectancy (HALE) at birth (years)', 'PUBLISH STATES': 'Published', 'Year': '2015', 'WHO region': 'Eastern Mediterranean', 'Country': 'Afghanistan', 'Sex': 'Male', 'Display Value': '52.8', 'Numeric': '52.78430', 'Low': '', 'High': '', 'Comments': ''}\n{'Indicator': 'Life expectancy at age 60 (years)', 'PUBLISH STATES': 'Published', 'Year': '2015', 'WHO region': 'Eastern Mediterranean', 'Country': 'Afghanistan', 'Sex': 'Male', 'Display Value': '15.7', 'Numeric': '15.67539', 'Low': '', 'High': '', 'Comments': ''}\n"
     ]
    }
   ],
   "source": [
    "import csv\n",
    "\n",
    "def csv_reader():\n",
    "    csvfile = open('data/data-text.csv','r')\n",
    "    reader = csv.DictReader(csvfile)\n",
    "\n",
    "    count = 0 #Counter for Loop Break\n",
    "    for row in reader:\n",
    "        count += 1\n",
    "        print(row)\n",
    "        if count == 10: #Loop Breaker after 10 rows\n",
    "            break\n",
    "\n",
    "def main():\n",
    "    csv_reader()\n",
    "\n",
    "if __name__ == \"__main__\":\n",
    "    main()"
   ]
  },
  {
   "source": [
    "### Import JSON"
   ],
   "cell_type": "markdown",
   "metadata": {}
  },
  {
   "cell_type": "code",
   "execution_count": 14,
   "metadata": {
    "tags": [
     "outputPrepend"
    ]
   },
   "outputs": [
    {
     "output_type": "stream",
     "name": "stdout",
     "text": [
      "ern Pacific', 'World Bank income group': 'Low-income', 'Country': 'Niue', 'Sex': 'Both sexes', 'Display Value': 62, 'Numeric': 62.0, 'Low': '', 'High': '', 'Comments': ''}\n",
      "{'Indicator': 'Healthy life expectancy (HALE) at birth (years)', 'PUBLISH STATES': 'Published', 'Year': 2012, 'WHO region': 'Western Pacific', 'World Bank income group': 'Low-income', 'Country': 'Niue', 'Sex': 'Female', 'Display Value': 66, 'Numeric': 66.0, 'Low': '', 'High': '', 'Comments': ''}\n",
      "{'Indicator': 'Healthy life expectancy (HALE) at birth (years)', 'PUBLISH STATES': 'Published', 'Year': 2012, 'WHO region': 'Europe', 'World Bank income group': 'High-income', 'Country': 'Netherlands', 'Sex': 'Male', 'Display Value': 70, 'Numeric': 70.0, 'Low': '', 'High': '', 'Comments': ''}\n",
      "{'Indicator': 'Healthy life expectancy (HALE) at birth (years)', 'PUBLISH STATES': 'Published', 'Year': 2012, 'WHO region': 'Europe', 'World Bank income group': 'High-income', 'Country': 'Netherlands', 'Sex': 'Both sexes', 'Display Value': 71, 'Numeric': 71.0, 'Low': '', 'High': '', 'Comments': ''}\n",
      "{'Indicator': 'Healthy life expectancy (HALE) at birth (years)', 'PUBLISH STATES': 'Published', 'Year': 2000, 'WHO region': 'South-East Asia', 'World Bank income group': 'Low-income', 'Country': 'Nepal', 'Sex': 'Male', 'Display Value': 53, 'Numeric': 53.0, 'Low': '', 'High': '', 'Comments': ''}\n",
      "{'Indicator': 'Healthy life expectancy (HALE) at birth (years)', 'PUBLISH STATES': 'Published', 'Year': 2012, 'WHO region': 'Western Pacific', 'World Bank income group': 'High-income', 'Country': 'Nauru', 'Sex': 'Male', 'Display Value': 64, 'Numeric': 64.0, 'Low': '', 'High': '', 'Comments': ''}\n",
      "{'Indicator': 'Healthy life expectancy (HALE) at birth (years)', 'PUBLISH STATES': 'Published', 'Year': 2012, 'WHO region': 'Western Pacific', 'World Bank income group': 'High-income', 'Country': 'Nauru', 'Sex': 'Both sexes', 'Display Value': 66, 'Numeric': 66.0, 'Low': '', 'High': '', 'Comments': ''}\n",
      "{'Indicator': 'Healthy life expectancy (HALE) at birth (years)', 'PUBLISH STATES': 'Published', 'Year': 2012, 'WHO region': 'Western Pacific', 'World Bank income group': 'High-income', 'Country': 'New Zealand', 'Sex': 'Female', 'Display Value': 73, 'Numeric': 73.0, 'Low': '', 'High': '', 'Comments': ''}\n",
      "{'Indicator': 'Healthy life expectancy (HALE) at birth (years)', 'PUBLISH STATES': 'Published', 'Year': 2000, 'WHO region': 'Eastern Mediterranean', 'World Bank income group': 'High-income', 'Country': 'Oman', 'Sex': 'Male', 'Display Value': 62, 'Numeric': 62.0, 'Low': '', 'High': '', 'Comments': ''}\n",
      "{'Indicator': 'Healthy life expectancy (HALE) at birth (years)', 'PUBLISH STATES': 'Published', 'Year': 2000, 'WHO region': 'Eastern Mediterranean', 'World Bank income group': 'High-income', 'Country': 'Oman', 'Sex': 'Female', 'Display Value': 63, 'Numeric': 63.0, 'Low': '', 'High': '', 'Comments': ''}\n",
      "{'Indicator': 'Healthy life expectancy (HALE) at birth (years)', 'PUBLISH STATES': 'Published', 'Year': 2000, 'WHO region': 'Eastern Mediterranean', 'World Bank income group': 'Lower-middle-income', 'Country': 'Pakistan', 'Sex': 'Male', 'Display Value': 53, 'Numeric': 53.0, 'Low': '', 'High': '', 'Comments': ''}\n",
      "{'Indicator': 'Healthy life expectancy (HALE) at birth (years)', 'PUBLISH STATES': 'Published', 'Year': 2012, 'WHO region': 'Eastern Mediterranean', 'World Bank income group': 'Lower-middle-income', 'Country': 'Pakistan', 'Sex': 'Male', 'Display Value': 56, 'Numeric': 56.0, 'Low': '', 'High': '', 'Comments': ''}\n",
      "{'Indicator': 'Healthy life expectancy (HALE) at birth (years)', 'PUBLISH STATES': 'Published', 'Year': 2012, 'WHO region': 'Americas', 'World Bank income group': 'Upper-middle-income', 'Country': 'Panama', 'Sex': 'Both sexes', 'Display Value': 67, 'Numeric': 67.0, 'Low': '', 'High': '', 'Comments': ''}\n",
      "{'Indicator': 'Healthy life expectancy (HALE) at birth (years)', 'PUBLISH STATES': 'Published', 'Year': 2000, 'WHO region': 'Western Pacific', 'World Bank income group': 'Lower-middle-income', 'Country': 'Philippines', 'Sex': 'Male', 'Display Value': 57, 'Numeric': 57.0, 'Low': '', 'High': '', 'Comments': ''}\n",
      "{'Indicator': 'Healthy life expectancy (HALE) at birth (years)', 'PUBLISH STATES': 'Published', 'Year': 2012, 'WHO region': 'Western Pacific', 'World Bank income group': 'Upper-middle-income', 'Country': 'Palau', 'Sex': 'Both sexes', 'Display Value': 62, 'Numeric': 62.0, 'Low': '', 'High': '', 'Comments': ''}\n",
      "{'Indicator': 'Healthy life expectancy (HALE) at birth (years)', 'PUBLISH STATES': 'Published', 'Year': 2000, 'WHO region': 'Europe', 'World Bank income group': 'Upper-middle-income', 'Country': 'Poland', 'Sex': 'Male', 'Display Value': 62, 'Numeric': 62.0, 'Low': '', 'High': '', 'Comments': ''}\n",
      "{'Indicator': 'Healthy life expectancy (HALE) at birth (years)', 'PUBLISH STATES': 'Published', 'Year': 2000, 'WHO region': 'Europe', 'World Bank income group': 'Upper-middle-income', 'Country': 'Poland', 'Sex': 'Female', 'Display Value': 68, 'Numeric': 68.0, 'Low': '', 'High': '', 'Comments': ''}\n",
      "{'Indicator': 'Healthy life expectancy (HALE) at birth (years)', 'PUBLISH STATES': 'Published', 'Year': 2000, 'WHO region': 'South-East Asia', 'World Bank income group': 'Low-income', 'Country': \"Democratic People's Republic of Korea\", 'Sex': 'Male', 'Display Value': 55, 'Numeric': 55.0, 'Low': '', 'High': '', 'Comments': ''}\n",
      "{'Indicator': 'Healthy life expectancy (HALE) at birth (years)', 'PUBLISH STATES': 'Published', 'Year': 2012, 'WHO region': 'South-East Asia', 'World Bank income group': 'Low-income', 'Country': \"Democratic People's Republic of Korea\", 'Sex': 'Male', 'Display Value': 59, 'Numeric': 59.0, 'Low': '', 'High': '', 'Comments': ''}\n",
      "{'Indicator': 'Healthy life expectancy (HALE) at birth (years)', 'PUBLISH STATES': 'Published', 'Year': 2012, 'WHO region': 'Europe', 'World Bank income group': 'High-income', 'Country': 'Portugal', 'Sex': 'Both sexes', 'Display Value': 71, 'Numeric': 71.0, 'Low': '', 'High': '', 'Comments': ''}\n",
      "{'Indicator': 'Healthy life expectancy (HALE) at birth (years)', 'PUBLISH STATES': 'Published', 'Year': 2000, 'WHO region': 'Americas', 'World Bank income group': 'Lower-middle-income', 'Country': 'Paraguay', 'Sex': 'Male', 'Display Value': 62, 'Numeric': 62.0, 'Low': '', 'High': '', 'Comments': ''}\n",
      "{'Indicator': 'Healthy life expectancy (HALE) at birth (years)', 'PUBLISH STATES': 'Published', 'Year': 2012, 'WHO region': 'Europe', 'World Bank income group': 'Upper-middle-income', 'Country': 'Romania', 'Sex': 'Male', 'Display Value': 63, 'Numeric': 63.0, 'Low': '', 'High': '', 'Comments': ''}\n",
      "{'Indicator': 'Healthy life expectancy (HALE) at birth (years)', 'PUBLISH STATES': 'Published', 'Year': 2012, 'WHO region': 'Europe', 'World Bank income group': 'Upper-middle-income', 'Country': 'Romania', 'Sex': 'Female', 'Display Value': 69, 'Numeric': 69.0, 'Low': '', 'High': '', 'Comments': ''}\n",
      "{'Indicator': 'Healthy life expectancy (HALE) at birth (years)', 'PUBLISH STATES': 'Published', 'Year': 2000, 'WHO region': 'Eastern Mediterranean', 'World Bank income group': 'High-income', 'Country': 'Saudi Arabia', 'Sex': 'Female', 'Display Value': 63, 'Numeric': 63.0, 'Low': '', 'High': '', 'Comments': ''}\n",
      "{'Indicator': 'Healthy life expectancy (HALE) at birth (years)', 'PUBLISH STATES': 'Published', 'Year': 2012, 'WHO region': 'Eastern Mediterranean', 'World Bank income group': 'High-income', 'Country': 'Saudi Arabia', 'Sex': 'Male', 'Display Value': 64, 'Numeric': 64.0, 'Low': '', 'High': '', 'Comments': ''}\n",
      "{'Indicator': 'Healthy life expectancy (HALE) at birth (years)', 'PUBLISH STATES': 'Published', 'Year': 2000, 'WHO region': 'Eastern Mediterranean', 'World Bank income group': 'Lower-middle-income', 'Country': 'Sudan', 'Sex': 'Both sexes', 'Display Value': 49, 'Numeric': 49.0, 'Low': '', 'High': '', 'Comments': ''}\n",
      "{'Indicator': 'Healthy life expectancy (HALE) at birth (years)', 'PUBLISH STATES': 'Published', 'Year': 2012, 'WHO region': 'Eastern Mediterranean', 'World Bank income group': 'Lower-middle-income', 'Country': 'Sudan', 'Sex': 'Both sexes', 'Display Value': 53, 'Numeric': 53.0, 'Low': '', 'High': '', 'Comments': ''}\n",
      "{'Indicator': 'Healthy life expectancy (HALE) at birth (years)', 'PUBLISH STATES': 'Published', 'Year': 2012, 'WHO region': 'Africa', 'World Bank income group': 'Low-income', 'Country': 'Senegal', 'Sex': 'Both sexes', 'Display Value': 55, 'Numeric': 55.0, 'Low': '', 'High': '', 'Comments': ''}\n",
      "{'Indicator': 'Healthy life expectancy (HALE) at birth (years)', 'PUBLISH STATES': 'Published', 'Year': 2012, 'WHO region': 'Western Pacific', 'World Bank income group': 'Lower-middle-income', 'Country': 'Solomon Islands', 'Sex': 'Female', 'Display Value': 60, 'Numeric': 60.0, 'Low': '', 'High': '', 'Comments': ''}\n",
      "{'Indicator': 'Healthy life expectancy (HALE) at birth (years)', 'PUBLISH STATES': 'Published', 'Year': 2012, 'WHO region': 'Africa', 'World Bank income group': 'Low-income', 'Country': 'Sierra Leone', 'Sex': 'Female', 'Display Value': 39, 'Numeric': 39.0, 'Low': '', 'High': '', 'Comments': ''}\n",
      "{'Indicator': 'Healthy life expectancy (HALE) at birth (years)', 'PUBLISH STATES': 'Published', 'Year': 2000, 'WHO region': 'Americas', 'World Bank income group': 'Lower-middle-income', 'Country': 'El Salvador', 'Sex': 'Female', 'Display Value': 64, 'Numeric': 64.0, 'Low': '', 'High': '', 'Comments': ''}\n",
      "{'Indicator': 'Healthy life expectancy (HALE) at birth (years)', 'PUBLISH STATES': 'Published', 'Year': 2000, 'WHO region': 'Europe', 'World Bank income group': 'High-income', 'Country': 'San Marino', 'Sex': 'Female', 'Display Value': 74, 'Numeric': 74.0, 'Low': '', 'High': '', 'Comments': ''}\n",
      "{'Indicator': 'Healthy life expectancy (HALE) at birth (years)', 'PUBLISH STATES': 'Published', 'Year': 2000, 'WHO region': 'Europe', 'World Bank income group': 'High-income', 'Country': 'San Marino', 'Sex': 'Both sexes', 'Display Value': 72, 'Numeric': 72.0, 'Low': '', 'High': '', 'Comments': ''}\n",
      "{'Indicator': 'Healthy life expectancy (HALE) at birth (years)', 'PUBLISH STATES': 'Published', 'Year': 2012, 'WHO region': 'Europe', 'World Bank income group': 'High-income', 'Country': 'San Marino', 'Sex': 'Male', 'Display Value': 72, 'Numeric': 72.0, 'Low': '', 'High': '', 'Comments': ''}\n",
      "{'Indicator': 'Healthy life expectancy (HALE) at birth (years)', 'PUBLISH STATES': 'Published', 'Year': 2000, 'WHO region': 'Eastern Mediterranean', 'World Bank income group': 'Low-income', 'Country': 'Somalia', 'Sex': 'Both sexes', 'Display Value': 43, 'Numeric': 43.0, 'Low': '', 'High': '', 'Comments': ''}\n",
      "{'Indicator': 'Healthy life expectancy (HALE) at birth (years)', 'PUBLISH STATES': 'Published', 'Year': 2012, 'WHO region': 'Eastern Mediterranean', 'World Bank income group': 'Low-income', 'Country': 'Somalia', 'Sex': 'Female', 'Display Value': 46, 'Numeric': 46.0, 'Low': '', 'High': '', 'Comments': ''}\n",
      "{'Indicator': 'Healthy life expectancy (HALE) at birth (years)', 'PUBLISH STATES': 'Published', 'Year': 2012, 'WHO region': 'Europe', 'World Bank income group': 'Upper-middle-income', 'Country': 'Serbia', 'Sex': 'Female', 'Display Value': 67, 'Numeric': 67.0, 'Low': '', 'High': '', 'Comments': ''}\n",
      "{'Indicator': 'Healthy life expectancy (HALE) at birth (years)', 'PUBLISH STATES': 'Published', 'Year': 2012, 'WHO region': 'Americas', 'World Bank income group': 'Upper-middle-income', 'Country': 'Suriname', 'Sex': 'Both sexes', 'Display Value': 66, 'Numeric': 66.0, 'Low': '', 'High': '', 'Comments': ''}\n",
      "{'Indicator': 'Healthy life expectancy (HALE) at birth (years)', 'PUBLISH STATES': 'Published', 'Year': 2012, 'WHO region': 'Europe', 'World Bank income group': 'High-income', 'Country': 'Sweden', 'Sex': 'Both sexes', 'Display Value': 72, 'Numeric': 72.0, 'Low': '', 'High': '', 'Comments': ''}\n",
      "{'Indicator': 'Healthy life expectancy (HALE) at birth (years)', 'PUBLISH STATES': 'Published', 'Year': 2012, 'WHO region': 'Africa', 'World Bank income group': 'Lower-middle-income', 'Country': 'Swaziland', 'Sex': 'Female', 'Display Value': 47, 'Numeric': 47.0, 'Low': '', 'High': '', 'Comments': ''}\n",
      "{'Indicator': 'Healthy life expectancy (HALE) at birth (years)', 'PUBLISH STATES': 'Published', 'Year': 2000, 'WHO region': 'Africa', 'World Bank income group': 'Upper-middle-income', 'Country': 'Seychelles', 'Sex': 'Male', 'Display Value': 61, 'Numeric': 61.0, 'Low': '', 'High': '', 'Comments': ''}\n",
      "{'Indicator': 'Healthy life expectancy (HALE) at birth (years)', 'PUBLISH STATES': 'Published', 'Year': 2000, 'WHO region': 'Eastern Mediterranean', 'World Bank income group': 'Lower-middle-income', 'Country': 'Syrian Arab Republic', 'Sex': 'Female', 'Display Value': 64, 'Numeric': 64.0, 'Low': '', 'High': '', 'Comments': ''}\n",
      "{'Indicator': 'Healthy life expectancy (HALE) at birth (years)', 'PUBLISH STATES': 'Published', 'Year': 2012, 'WHO region': 'Africa', 'World Bank income group': 'Low-income', 'Country': 'Chad', 'Sex': 'Female', 'Display Value': 44, 'Numeric': 44.0, 'Low': '', 'High': '', 'Comments': ''}\n",
      "{'Indicator': 'Healthy life expectancy (HALE) at birth (years)', 'PUBLISH STATES': 'Published', 'Year': 2000, 'WHO region': 'South-East Asia', 'World Bank income group': 'Lower-middle-income', 'Country': 'Thailand', 'Sex': 'Male', 'Display Value': 59, 'Numeric': 59.0, 'Low': '', 'High': '', 'Comments': ''}\n",
      "{'Indicator': 'Healthy life expectancy (HALE) at birth (years)', 'PUBLISH STATES': 'Published', 'Year': 2000, 'WHO region': 'South-East Asia', 'World Bank income group': 'Lower-middle-income', 'Country': 'Thailand', 'Sex': 'Female', 'Display Value': 65, 'Numeric': 65.0, 'Low': '', 'High': '', 'Comments': ''}\n",
      "{'Indicator': 'Healthy life expectancy (HALE) at birth (years)', 'PUBLISH STATES': 'Published', 'Year': 2000, 'WHO region': 'Europe', 'World Bank income group': 'Low-income', 'Country': 'Tajikistan', 'Sex': 'Both sexes', 'Display Value': 56, 'Numeric': 56.0, 'Low': '', 'High': '', 'Comments': ''}\n",
      "{'Indicator': 'Healthy life expectancy (HALE) at birth (years)', 'PUBLISH STATES': 'Published', 'Year': 2012, 'WHO region': 'Europe', 'World Bank income group': 'Low-income', 'Country': 'Tajikistan', 'Sex': 'Female', 'Display Value': 60, 'Numeric': 60.0, 'Low': '', 'High': '', 'Comments': ''}\n",
      "{'Indicator': 'Healthy life expectancy (HALE) at birth (years)', 'PUBLISH STATES': 'Published', 'Year': 2012, 'WHO region': 'Western Pacific', 'World Bank income group': 'Lower-middle-income', 'Country': 'Tonga', 'Sex': 'Female', 'Display Value': 61, 'Numeric': 61.0, 'Low': '', 'High': '', 'Comments': ''}\n",
      "{'Indicator': 'Healthy life expectancy (HALE) at birth (years)', 'PUBLISH STATES': 'Published', 'Year': 2012, 'WHO region': 'Americas', 'World Bank income group': 'High-income', 'Country': 'Trinidad and Tobago', 'Sex': 'Female', 'Display Value': 64, 'Numeric': 64.0, 'Low': '', 'High': '', 'Comments': ''}\n",
      "{'Indicator': 'Healthy life expectancy (HALE) at birth (years)', 'PUBLISH STATES': 'Published', 'Year': 2012, 'WHO region': 'Americas', 'World Bank income group': 'High-income', 'Country': 'Trinidad and Tobago', 'Sex': 'Both sexes', 'Display Value': 61, 'Numeric': 61.0, 'Low': '', 'High': '', 'Comments': ''}\n",
      "{'Indicator': 'Healthy life expectancy (HALE) at birth (years)', 'PUBLISH STATES': 'Published', 'Year': 2000, 'WHO region': 'Eastern Mediterranean', 'World Bank income group': 'Lower-middle-income', 'Country': 'Tunisia', 'Sex': 'Male', 'Display Value': 63, 'Numeric': 63.0, 'Low': '', 'High': '', 'Comments': ''}\n",
      "{'Indicator': 'Healthy life expectancy (HALE) at birth (years)', 'PUBLISH STATES': 'Published', 'Year': 2012, 'WHO region': 'Western Pacific', 'World Bank income group': 'Upper-middle-income', 'Country': 'Tuvalu', 'Sex': 'Male', 'Display Value': 57, 'Numeric': 57.0, 'Low': '', 'High': '', 'Comments': ''}\n",
      "{'Indicator': 'Healthy life expectancy (HALE) at birth (years)', 'PUBLISH STATES': 'Published', 'Year': 2000, 'WHO region': 'Africa', 'World Bank income group': 'Low-income', 'Country': 'Uganda', 'Sex': 'Female', 'Display Value': 40, 'Numeric': 40.0, 'Low': '', 'High': '', 'Comments': ''}\n",
      "{'Indicator': 'Healthy life expectancy (HALE) at birth (years)', 'PUBLISH STATES': 'Published', 'Year': 2000, 'WHO region': 'Europe', 'World Bank income group': 'Lower-middle-income', 'Country': 'Ukraine', 'Sex': 'Both sexes', 'Display Value': 60, 'Numeric': 60.0, 'Low': '', 'High': '', 'Comments': ''}\n",
      "{'Indicator': 'Healthy life expectancy (HALE) at birth (years)', 'PUBLISH STATES': 'Published', 'Year': 2012, 'WHO region': 'Americas', 'World Bank income group': 'Upper-middle-income', 'Country': 'Uruguay', 'Sex': 'Male', 'Display Value': 65, 'Numeric': 65.0, 'Low': '', 'High': '', 'Comments': ''}\n",
      "{'Indicator': 'Healthy life expectancy (HALE) at birth (years)', 'PUBLISH STATES': 'Published', 'Year': 2012, 'WHO region': 'Americas', 'World Bank income group': 'Upper-middle-income', 'Country': 'Uruguay', 'Sex': 'Female', 'Display Value': 70, 'Numeric': 70.0, 'Low': '', 'High': '', 'Comments': ''}\n",
      "{'Indicator': 'Healthy life expectancy (HALE) at birth (years)', 'PUBLISH STATES': 'Published', 'Year': 2012, 'WHO region': 'Americas', 'World Bank income group': 'Upper-middle-income', 'Country': 'Uruguay', 'Sex': 'Both sexes', 'Display Value': 68, 'Numeric': 68.0, 'Low': '', 'High': '', 'Comments': ''}\n",
      "{'Indicator': 'Healthy life expectancy (HALE) at birth (years)', 'PUBLISH STATES': 'Published', 'Year': 2000, 'WHO region': 'Americas', 'World Bank income group': 'Upper-middle-income', 'Country': 'Saint Vincent and the Grenadines', 'Sex': 'Both sexes', 'Display Value': 61, 'Numeric': 61.0, 'Low': '', 'High': '', 'Comments': ''}\n",
      "{'Indicator': 'Healthy life expectancy (HALE) at birth (years)', 'PUBLISH STATES': 'Published', 'Year': 2012, 'WHO region': 'Americas', 'World Bank income group': 'Upper-middle-income', 'Country': 'Venezuela (Bolivarian Republic of)', 'Sex': 'Both sexes', 'Display Value': 66, 'Numeric': 66.0, 'Low': '', 'High': '', 'Comments': ''}\n",
      "{'Indicator': 'Healthy life expectancy (HALE) at birth (years)', 'PUBLISH STATES': 'Published', 'Year': 2000, 'WHO region': 'Western Pacific', 'World Bank income group': 'Lower-middle-income', 'Country': 'Vanuatu', 'Sex': 'Male', 'Display Value': 59, 'Numeric': 59.0, 'Low': '', 'High': '', 'Comments': ''}\n",
      "{'Indicator': 'Healthy life expectancy (HALE) at birth (years)', 'PUBLISH STATES': 'Published', 'Year': 2012, 'WHO region': 'Western Pacific', 'World Bank income group': 'Lower-middle-income', 'Country': 'Samoa', 'Sex': 'Male', 'Display Value': 62, 'Numeric': 62.0, 'Low': '', 'High': '', 'Comments': ''}\n",
      "{'Indicator': 'Healthy life expectancy (HALE) at birth (years)', 'PUBLISH STATES': 'Published', 'Year': 2012, 'WHO region': 'Western Pacific', 'World Bank income group': 'Lower-middle-income', 'Country': 'Samoa', 'Sex': 'Female', 'Display Value': 66, 'Numeric': 66.0, 'Low': '', 'High': '', 'Comments': ''}\n",
      "{'Indicator': 'Healthy life expectancy (HALE) at birth (years)', 'PUBLISH STATES': 'Published', 'Year': 2012, 'WHO region': 'Eastern Mediterranean', 'World Bank income group': 'Low-income', 'Country': 'Yemen', 'Sex': 'Both sexes', 'Display Value': 54, 'Numeric': 54.0, 'Low': '', 'High': '', 'Comments': ''}\n",
      "{'Indicator': 'Healthy life expectancy (HALE) at birth (years)', 'PUBLISH STATES': 'Published', 'Year': 2000, 'WHO region': 'Africa', 'World Bank income group': 'Upper-middle-income', 'Country': 'South Africa', 'Sex': 'Male', 'Display Value': 49, 'Numeric': 49.0, 'Low': '', 'High': '', 'Comments': ''}\n",
      "{'Indicator': 'Healthy life expectancy (HALE) at birth (years)', 'PUBLISH STATES': 'Published', 'Year': 2000, 'WHO region': 'Africa', 'World Bank income group': 'Low-income', 'Country': 'Zambia', 'Sex': 'Both sexes', 'Display Value': 36, 'Numeric': 36.0, 'Low': '', 'High': '', 'Comments': ''}\n",
      "{'Indicator': 'Healthy life expectancy (HALE) at birth (years)', 'PUBLISH STATES': 'Published', 'Year': 2012, 'WHO region': 'Africa', 'World Bank income group': 'Low-income', 'Country': 'Zimbabwe', 'Sex': 'Female', 'Display Value': 51, 'Numeric': 51.0, 'Low': '', 'High': '', 'Comments': ''}\n"
     ]
    }
   ],
   "source": [
    "import json\n",
    "\n",
    "def json_reader():\n",
    "    json_data = open('data/data-text.json').read()\n",
    "\n",
    "    data = json.loads(json_data)\n",
    "\n",
    "    for item in data:\n",
    "        print(item)\n",
    "\n",
    "def main():\n",
    "    json_reader()\n",
    "\n",
    "if __name__ == \"__main__\":\n",
    "    main()"
   ]
  },
  {
   "source": [
    "### Import XML"
   ],
   "cell_type": "markdown",
   "metadata": {}
  },
  {
   "cell_type": "code",
   "execution_count": 36,
   "metadata": {
    "tags": []
   },
   "outputs": [],
   "source": [
    "import xml.etree.ElementTree as ET\n",
    "\n",
    "def xml_reader():\n",
    "    tree = ET.parse('data/data-text.xml')\n",
    "    root = tree.getroot()\n",
    "\n",
    "    data = root.find('Data')\n",
    "\n",
    "    root.iter()\n",
    "\n",
    "def main():\n",
    "    xml_reader()\n",
    "\n",
    "if __name__ == \"__main__\":\n",
    "    main()\n"
   ]
  },
  {
   "cell_type": "code",
   "execution_count": null,
   "metadata": {},
   "outputs": [],
   "source": []
  }
 ]
}